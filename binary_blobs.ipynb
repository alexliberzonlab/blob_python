{
 "cells": [
  {
   "cell_type": "code",
   "execution_count": 258,
   "metadata": {
    "collapsed": true
   },
   "outputs": [],
   "source": [
    "# based on the scikit-image.data.binary_blobs"
   ]
  },
  {
   "cell_type": "code",
   "execution_count": 353,
   "metadata": {
    "collapsed": false
   },
   "outputs": [
    {
     "name": "stdout",
     "output_type": "stream",
     "text": [
      "Populating the interactive namespace from numpy and matplotlib\n"
     ]
    }
   ],
   "source": [
    "import numpy as np\n",
    "from skimage.filters import gaussian\n",
    "%pylab inline\n",
    "\n",
    "\n",
    "def binary_blobs(shape=(5,5), sigma=1, n_dim=2,\n",
    "                 volume_fraction=0.5, seed=None, points=None):\n",
    "    \"\"\"\n",
    "    Generate synthetic binary image with several rounded blob-like objects.\n",
    "\n",
    "    Parameters\n",
    "    ----------\n",
    "    length : int, optional\n",
    "        Linear size of output image.\n",
    "    blob_size_fraction : float, optional\n",
    "        Typical linear size of blob, as a fraction of ``length``, should be\n",
    "        smaller than 1.\n",
    "    n_dim : int, optional\n",
    "        Number of dimensions of output image.\n",
    "    volume_fraction : float, default 0.5\n",
    "        Fraction of image pixels covered by the blobs (where the output is 1).\n",
    "        Should be in [0, 1].\n",
    "    seed : int, optional\n",
    "        Seed to initialize the random number generator.\n",
    "\n",
    "    Returns\n",
    "    -------\n",
    "    blobs : ndarray of bools\n",
    "        Output binary image\n",
    "\n",
    "    Examples\n",
    "    --------\n",
    "    >>> from skimage import data\n",
    "    >>> data.binary_blobs(length=5, blob_size_fraction=0.2, seed=1)\n",
    "    array([[ True, False,  True,  True,  True],\n",
    "           [ True,  True,  True, False,  True],\n",
    "           [False,  True, False,  True,  True],\n",
    "           [ True, False, False,  True,  True],\n",
    "           [ True, False, False, False,  True]], dtype=bool)\n",
    "    >>> blobs = data.binary_blobs(length=256, blob_size_fraction=0.1)\n",
    "    >>> # Finer structures\n",
    "    >>> blobs = data.binary_blobs(length=256, blob_size_fraction=0.05)\n",
    "    >>> # Blobs cover a smaller volume fraction of the image\n",
    "    >>> blobs = data.binary_blobs(length=256, volume_fraction=0.3)\n",
    "    \"\"\"\n",
    "    rs = np.random.RandomState(seed)\n",
    "    # shape = tuple([length] * n_dim)\n",
    "    mask = np.zeros(shape)\n",
    "    \n",
    "    if points is None:\n",
    "        # n_pts = max(int(1. / blob_size_fraction) ** n_dim, 1)\n",
    "        n_pts = 10\n",
    "        points = (shape[0] * rs.rand(n_dim, n_pts)).astype(np.int)\n",
    "    else:\n",
    "        n_pts = len(points)\n",
    "    \n",
    "    mask[[indices for indices in points]] = 1\n",
    "    figure(); imshow(mask)\n",
    "    mask = gaussian(mask, sigma=sigma)\n",
    "    figure();imshow(mask)\n",
    "    threshold = np.percentile(mask, 100 * (1 - volume_fraction))\n",
    "    return np.logical_not(mask < threshold)"
   ]
  },
  {
   "cell_type": "code",
   "execution_count": 362,
   "metadata": {
    "collapsed": false
   },
   "outputs": [
    {
     "data": {
      "image/png": "[encoded data removed]",
      "text/plain": [
       "<matplotlib.figure.Figure at 0x7ffb3a640c50>"
      ]
     },
     "metadata": {},
     "output_type": "display_data"
    },
    {
     "data": {
      "image/png": "[encoded data removed]",
      "text/plain": [
       "<matplotlib.figure.Figure at 0x7ffb3a640550>"
      ]
     },
     "metadata": {},
     "output_type": "display_data"
    }
   ],
   "source": [
    "d = binary_blobs(shape=(512,512),sigma=2)"
   ]
  },
  {
   "cell_type": "code",
   "execution_count": 398,
   "metadata": {
    "collapsed": false
   },
   "outputs": [],
   "source": [
    "data = np.loadtxt('/home/ivan/shared/IIBR_2609_cptr4_PTV/Target_Files/blob0.176047_targets',skiprows=1)"
   ]
  },
  {
   "cell_type": "code",
   "execution_count": 406,
   "metadata": {
    "collapsed": false
   },
   "outputs": [
    {
     "data": {
      "text/plain": [
       "array([[1141, 1770, 1812, 2062, 1277, 1508, 1814, 1485, 1930, 1469, 1400,\n",
       "        1447, 1463, 1833, 1420, 1583, 1405,  589, 1519, 1195, 1518, 1010,\n",
       "        1238, 1885, 1431, 1737, 1151, 1063,  751, 1401, 1314,  572, 1054,\n",
       "        1578,  940, 1045, 1356,  897,  899, 1052,  786,  521,  972,  837,\n",
       "         838, 1047, 1242,  838, 1274,  678,  974, 1284, 1187,  871,  658,\n",
       "         655, 1088, 1468,  440,  470],\n",
       "       [  24,   33,   48,   65,   83,   90,   89,  153,  153,  157,  161,\n",
       "         163,  171,  186,  185,  224,  226,  256,  264,  273,  280,  304,\n",
       "         319,  324,  326,  351,  350,  363,  371,  376,  390,  400,  403,\n",
       "         417,  444,  449,  462,  485,  487,  494,  497,  500,  541,  555,\n",
       "         556,  566,  570,  585,  590,  606,  613,  668,  682,  756,  815,\n",
       "         830,  877,  895,  976, 1014]])"
      ]
     },
     "execution_count": 406,
     "metadata": {},
     "output_type": "execute_result"
    }
   ],
   "source": [
    "points = np.c_[data[:,1],data[:,2]].astype(np.int)\n",
    "points.T"
   ]
  },
  {
   "cell_type": "code",
   "execution_count": 408,
   "metadata": {
    "collapsed": false
   },
   "outputs": [
    {
     "data": {
      "image/png": "[encoded data removed]",
      "text/plain": [
       "<matplotlib.figure.Figure at 0x7ffb39d12290>"
      ]
     },
     "metadata": {},
     "output_type": "display_data"
    },
    {
     "data": {
      "image/png": "[encoded data removed]",
      "text/plain": [
       "<matplotlib.figure.Figure at 0x7ffb39d12190>"
      ]
     },
     "metadata": {},
     "output_type": "display_data"
    }
   ],
   "source": [
    "d = binary_blobs(shape=(2304,1720),points=points,sigma=3)"
   ]
  },
  {
   "cell_type": "code",
   "execution_count": 415,
   "metadata": {
    "collapsed": false
   },
   "outputs": [],
   "source": [
    "mask = np.zeros((1720,2304),dtype=np.uint8)"
   ]
  },
  {
   "cell_type": "code",
   "execution_count": 430,
   "metadata": {
    "collapsed": false
   },
   "outputs": [],
   "source": [
    "for p in points:\n",
    "    mask[p[1],p[0]] = 1\n",
    "    \n",
    "mask = img_as_uint(gaussian(mask, sigma=3))"
   ]
  },
  {
   "cell_type": "code",
   "execution_count": 431,
   "metadata": {
    "collapsed": false
   },
   "outputs": [],
   "source": [
    "from skimage import img_as_uint"
   ]
  },
  {
   "cell_type": "code",
   "execution_count": 432,
   "metadata": {
    "collapsed": false
   },
   "outputs": [
    {
     "data": {
      "text/plain": [
       "<matplotlib.image.AxesImage at 0x7ffb3cbbb890>"
      ]
     },
     "execution_count": 432,
     "metadata": {},
     "output_type": "execute_result"
    },
    {
     "data": {
      "image/png": "[encoded data removed]",
      "text/plain": [
       "<matplotlib.figure.Figure at 0x7ffb3cd70d90>"
      ]
     },
     "metadata": {},
     "output_type": "display_data"
    }
   ],
   "source": [
    "imshow(img_as_uint(mask))"
   ]
  },
  {
   "cell_type": "code",
   "execution_count": null,
   "metadata": {
    "collapsed": true
   },
   "outputs": [],
   "source": []
  }
 ],
 "metadata": {
  "kernelspec": {
   "display_name": "Python 3.7.5 ('pyptv')",
   "language": "python",
   "name": "python3"
  },
  "language_info": {
   "codemirror_mode": {
    "name": "ipython",
    "version": 2
   },
   "file_extension": ".py",
   "mimetype": "text/x-python",
   "name": "python",
   "nbconvert_exporter": "python",
   "pygments_lexer": "ipython2",
   "version": "3.7.5"
  },
  "vscode": {
   "interpreter": {
    "hash": "ed9e33d220f163aa9134bb148c65b0e77a2761b6d6680b803e57bb86aebafd34"
   }
  }
 },
 "nbformat": 4,
 "nbformat_minor": 0
}
